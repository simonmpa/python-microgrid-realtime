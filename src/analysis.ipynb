{
 "cells": [
  {
   "cell_type": "code",
   "execution_count": 2,
   "id": "e4695581",
   "metadata": {},
   "outputs": [],
   "source": [
    "# Hvor meget strøm er der blevet brugt af alle nodes\n",
    "# Hvor meget strøm der er genereret af PV\n",
    "# Hvor strøm der er hentet fra grid\n",
    "\n",
    "\n",
    "# Kommer batterier nogensinde til 100%\n",
    "# Exporter vi nogensinde strøm til grid\n",
    "## Hvis ja, hvor meget?"
   ]
  },
  {
   "cell_type": "code",
   "execution_count": 12,
   "id": "570096da",
   "metadata": {},
   "outputs": [],
   "source": [
    "import pandas as pd\n",
    "import matplotlib.pyplot as plt\n",
    "import matplotlib.dates as mdates\n",
    "from matplotlib.ticker import MaxNLocator, FormatStrFormatter\n",
    "import seaborn as sns\n",
    "import os\n",
    "\n",
    "PATH_PLUGIN = '../results/plugin/25may-5xspeed-withplugin/logs/'\n",
    "PATH_DEFAULT_SCHEDULER = '../results/default-scheduler/26may-5xspeed-withoutplugin/logs/'\n"
   ]
  },
  {
   "cell_type": "code",
   "execution_count": 13,
   "id": "7cd62891",
   "metadata": {},
   "outputs": [],
   "source": [
    "gridnames = pd.read_csv('../data/gridnames.csv')\n",
    "names = gridnames['Gridname'].to_list()\n",
    "\n",
    "dataframes_plugin = {}\n",
    "dataframes_default_scheduler = {}\n",
    "\n",
    "\n",
    "for name in names:\n",
    "    file_path = os.path.join(PATH_PLUGIN, f\"{name}.csv\")\n",
    "    if os.path.exists(file_path):\n",
    "        dataframes_plugin[name] = pd.read_csv(file_path)\n",
    "    else:\n",
    "        print(f\"Warning: File {file_path} does not exist.\")\n",
    "\n",
    "for name in names:\n",
    "    file_path = os.path.join(PATH_DEFAULT_SCHEDULER, f\"{name}.csv\")\n",
    "    if os.path.exists(file_path):\n",
    "        dataframes_default_scheduler[name] = pd.read_csv(file_path)\n",
    "    else:\n",
    "        print(f\"Warning: File {file_path} does not exist.\")\n",
    "\n",
    "\n"
   ]
  }
 ],
 "metadata": {
  "kernelspec": {
   "display_name": "Python 3",
   "language": "python",
   "name": "python3"
  },
  "language_info": {
   "codemirror_mode": {
    "name": "ipython",
    "version": 3
   },
   "file_extension": ".py",
   "mimetype": "text/x-python",
   "name": "python",
   "nbconvert_exporter": "python",
   "pygments_lexer": "ipython3",
   "version": "3.11.5"
  }
 },
 "nbformat": 4,
 "nbformat_minor": 5
}
