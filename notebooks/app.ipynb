{
 "cells": [
  {
   "cell_type": "markdown",
   "metadata": {},
   "source": [
    "# Setup the Grid\n",
    "\n",
    "Remember to pip install in root directory.\n",
    "\n",
    "```bash\n",
    "pip install .\n",
    "```\n",
    "\n",
    "Then run the cells in the notebook below."
   ]
  },
  {
   "cell_type": "code",
   "execution_count": 8,
   "metadata": {},
   "outputs": [],
   "source": [
    "import numpy as np\n",
    "import pandas as pd\n",
    "\n",
    "import os\n",
    "cwd = os.getcwd()\n",
    "\n",
    "np.random.seed(0)\n",
    "\n",
    "from pymgrid import Microgrid\n",
    "from pymgrid.modules import (\n",
    "    BatteryModule,\n",
    "    LoadModule,\n",
    "    RenewableModule,\n",
    "    GridModule)"
   ]
  },
  {
   "cell_type": "markdown",
   "metadata": {},
   "source": [
    "### Definition of the microgrid"
   ]
  },
  {
   "cell_type": "code",
   "execution_count": 9,
   "metadata": {},
   "outputs": [],
   "source": [
    "# Import the data from the csv file\n",
    "wind = pd.read_csv('..\\data\\ONSHORE_WIND_GENERATION\\SP199_HH100_A.csv')\n",
    "\n",
    "solar = pd.read_csv('..\\data\\SOLAR_PV_GENERATION\\solarPV.csv')\n",
    "\n",
    "#print(cwd)"
   ]
  },
  {
   "cell_type": "code",
   "execution_count": 15,
   "metadata": {},
   "outputs": [
    {
     "name": "stdout",
     "output_type": "stream",
     "text": [
      "                   Time      AL00      AT00      AT01      AT02      AT03  \\\n",
      "0  01-Jan-1982 00:00:00  0.587615  0.215817  0.062758  0.234446  0.226710   \n",
      "1  01-Jan-1982 01:00:00  0.584334  0.174933  0.066557  0.155039  0.212723   \n",
      "2  01-Jan-1982 02:00:00  0.586314  0.151734  0.098374  0.104946  0.203970   \n",
      "3  01-Jan-1982 03:00:00  0.587849  0.147775  0.062108  0.067622  0.236217   \n",
      "4  01-Jan-1982 04:00:00  0.582528  0.104652  0.045844  0.031809  0.181565   \n",
      "\n",
      "       BA00      BE00      BE01      BE02  ...      UA01      UA02      UK00  \\\n",
      "0  0.873697  0.573245  0.371378  0.620038  ...  0.866679  0.504234  0.164096   \n",
      "1  0.848343  0.622194  0.409174  0.674662  ...  0.859447  0.464484  0.134302   \n",
      "2  0.820618  0.639585  0.434113  0.697636  ...  0.866372  0.458473  0.127161   \n",
      "3  0.822184  0.643726  0.450822  0.692860  ...  0.811786  0.454071  0.138366   \n",
      "4  0.826557  0.669521  0.495583  0.715969  ...  0.730682  0.483166  0.136163   \n",
      "\n",
      "       UK01      UK02      UK03      UK04      UK05      UKNI      XK00  \n",
      "0  0.060809  0.322056  0.149603  0.116621  0.218821  0.268105  0.763789  \n",
      "1  0.048996  0.272670  0.084207  0.101283  0.208596  0.212014  0.749955  \n",
      "2  0.069377  0.294141  0.052639  0.087157  0.198219  0.211179  0.739434  \n",
      "3  0.109453  0.296175  0.058640  0.077160  0.213529  0.224381  0.684168  \n",
      "4  0.142612  0.253533  0.054106  0.070494  0.209157  0.244650  0.634310  \n",
      "\n",
      "[5 rows x 180 columns]\n",
      "Time     object\n",
      "AL00    float64\n",
      "AT00    float64\n",
      "AT01    float64\n",
      "AT02    float64\n",
      "         ...   \n",
      "UK03    float64\n",
      "UK04    float64\n",
      "UK05    float64\n",
      "UKNI    float64\n",
      "XK00    float64\n",
      "Length: 180, dtype: object\n",
      "                   Time  AL00  AT00  AT01  AT02  AT03  BA00  BE00  BE01  BE02  \\\n",
      "0  01-Jan-1982 00:00:00   0.0   0.0   0.0   0.0   0.0   0.0   0.0   0.0   0.0   \n",
      "1  01-Jan-1982 01:00:00   0.0   0.0   0.0   0.0   0.0   0.0   0.0   0.0   0.0   \n",
      "2  01-Jan-1982 02:00:00   0.0   0.0   0.0   0.0   0.0   0.0   0.0   0.0   0.0   \n",
      "3  01-Jan-1982 03:00:00   0.0   0.0   0.0   0.0   0.0   0.0   0.0   0.0   0.0   \n",
      "4  01-Jan-1982 04:00:00   0.0   0.0   0.0   0.0   0.0   0.0   0.0   0.0   0.0   \n",
      "\n",
      "   ...  UA01  UA02  UK00  UK01  UK02  UK03  UK04  UK05  UKNI  XK00  \n",
      "0  ...   0.0   0.0   0.0   0.0   0.0   0.0   0.0   0.0   0.0   0.0  \n",
      "1  ...   0.0   0.0   0.0   0.0   0.0   0.0   0.0   0.0   0.0   0.0  \n",
      "2  ...   0.0   0.0   0.0   0.0   0.0   0.0   0.0   0.0   0.0   0.0  \n",
      "3  ...   0.0   0.0   0.0   0.0   0.0   0.0   0.0   0.0   0.0   0.0  \n",
      "4  ...   0.0   0.0   0.0   0.0   0.0   0.0   0.0   0.0   0.0   0.0  \n",
      "\n",
      "[5 rows x 180 columns]\n",
      "Time     object\n",
      "AL00    float64\n",
      "AT00    float64\n",
      "AT01    float64\n",
      "AT02    float64\n",
      "         ...   \n",
      "UK03    float64\n",
      "UK04    float64\n",
      "UK05    float64\n",
      "UKNI    float64\n",
      "XK00    float64\n",
      "Length: 180, dtype: object\n"
     ]
    }
   ],
   "source": [
    "# Check the data structure\n",
    "print(wind.head())\n",
    "print(wind.dtypes)\n",
    "print(solar.head())\n",
    "print(solar.dtypes)"
   ]
  },
  {
   "cell_type": "code",
   "execution_count": 20,
   "metadata": {},
   "outputs": [
    {
     "name": "stdout",
     "output_type": "stream",
     "text": [
      "[194.89992899 131.56919497 197.9834697  ... 114.13375058 195.53689538\n",
      " 186.10592081]\n",
      "[ 98.7126581   60.04301685   4.09807156 ...  72.13447356 173.38615937\n",
      "  23.30995749]\n"
     ]
    }
   ],
   "source": [
    "load_ts = 100+100*np.random.rand(24*90) # random load data in the range [100, 200].\n",
    "\n",
    "print(load_ts)\n",
    "\n",
    "solar_pv_ts = 200*np.random.rand(24*90) # random solar pv data in the range [0, 200].\n",
    "\n",
    "wind_turbine_ts = 200*np.random.rand(24*90) # random wind turbine in the range [0, 200].\n",
    "\n",
    "print(solar_pv_ts)"
   ]
  },
  {
   "cell_type": "code",
   "execution_count": 25,
   "metadata": {},
   "outputs": [
    {
     "name": "stdout",
     "output_type": "stream",
     "text": [
      "0         0.0\n",
      "1         0.0\n",
      "2         0.0\n",
      "3         0.0\n",
      "4         0.0\n",
      "         ... \n",
      "333091    0.0\n",
      "333092    0.0\n",
      "333093    0.0\n",
      "333094    0.0\n",
      "333095    0.0\n",
      "Name: ES10, Length: 333096, dtype: float64\n"
     ]
    }
   ],
   "source": [
    "battery = BatteryModule(min_capacity=10,\n",
    "                              max_capacity=100,\n",
    "                              max_charge=50,\n",
    "                              max_discharge=50,\n",
    "                              efficiency=0.9,\n",
    "                              init_soc=0.2)\n",
    "\n",
    "load = LoadModule(time_series=load_ts)\n",
    "\n",
    "print(solar['ES10'])\n",
    "\n",
    "solar_pvs = RenewableModule(time_series=solar['ES10'])\n",
    "#wind_turbine = RenewableModule(time_series=wind_turbine_ts)\n",
    "\n"
   ]
  }
 ],
 "metadata": {
  "kernelspec": {
   "display_name": "Python 3",
   "language": "python",
   "name": "python3"
  },
  "language_info": {
   "codemirror_mode": {
    "name": "ipython",
    "version": 3
   },
   "file_extension": ".py",
   "mimetype": "text/x-python",
   "name": "python",
   "nbconvert_exporter": "python",
   "pygments_lexer": "ipython3",
   "version": "3.10.11"
  }
 },
 "nbformat": 4,
 "nbformat_minor": 2
}
