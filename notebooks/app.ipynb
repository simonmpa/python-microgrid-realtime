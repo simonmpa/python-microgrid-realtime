{
 "cells": [
  {
   "cell_type": "markdown",
   "metadata": {},
   "source": [
    "# Setup the Grid\n",
    "\n",
    "Remember to pip install in root directory.\n",
    "\n",
    "```bash\n",
    "pip install .\n",
    "```\n",
    "\n",
    "Then run the cells in the notebook below."
   ]
  },
  {
   "cell_type": "code",
   "execution_count": 1,
   "metadata": {},
   "outputs": [],
   "source": [
    "import numpy as np\n",
    "import pandas as pd\n",
    "\n",
    "import os\n",
    "cwd = os.getcwd()\n",
    "\n",
    "np.random.seed(0)\n",
    "\n",
    "from pymgrid import Microgrid\n",
    "from pymgrid.modules import (\n",
    "    BatteryModule,\n",
    "    LoadModule,\n",
    "    RenewableModule,\n",
    "    GridModule)"
   ]
  },
  {
   "cell_type": "markdown",
   "metadata": {},
   "source": [
    "### Definition of the microgrid"
   ]
  },
  {
   "cell_type": "code",
   "execution_count": 2,
   "metadata": {},
   "outputs": [],
   "source": [
    "# Import the data from the csv file\n",
    "wind = pd.read_csv('..\\data\\ONSHORE_WIND_GENERATION\\SP199_HH100_A.csv')\n",
    "\n",
    "solar = pd.read_csv('..\\data\\SOLAR_PV_GENERATION\\solarPV.csv')\n",
    "\n",
    "load_ts = 100+100*np.random.rand(24*90) # random load data in the range [100, 200].\n",
    "\n",
    "#print(cwd)"
   ]
  },
  {
   "cell_type": "code",
   "execution_count": 3,
   "metadata": {},
   "outputs": [
    {
     "name": "stdout",
     "output_type": "stream",
     "text": [
      "                   Time      AL00      AT00      AT01      AT02      AT03  \\\n",
      "0  01-Jan-1982 00:00:00  0.587615  0.215817  0.062758  0.234446  0.226710   \n",
      "1  01-Jan-1982 01:00:00  0.584334  0.174933  0.066557  0.155039  0.212723   \n",
      "2  01-Jan-1982 02:00:00  0.586314  0.151734  0.098374  0.104946  0.203970   \n",
      "3  01-Jan-1982 03:00:00  0.587849  0.147775  0.062108  0.067622  0.236217   \n",
      "4  01-Jan-1982 04:00:00  0.582528  0.104652  0.045844  0.031809  0.181565   \n",
      "\n",
      "       BA00      BE00      BE01      BE02  ...      UA01      UA02      UK00  \\\n",
      "0  0.873697  0.573245  0.371378  0.620038  ...  0.866679  0.504234  0.164096   \n",
      "1  0.848343  0.622194  0.409174  0.674662  ...  0.859447  0.464484  0.134302   \n",
      "2  0.820618  0.639585  0.434113  0.697636  ...  0.866372  0.458473  0.127161   \n",
      "3  0.822184  0.643726  0.450822  0.692860  ...  0.811786  0.454071  0.138366   \n",
      "4  0.826557  0.669521  0.495583  0.715969  ...  0.730682  0.483166  0.136163   \n",
      "\n",
      "       UK01      UK02      UK03      UK04      UK05      UKNI      XK00  \n",
      "0  0.060809  0.322056  0.149603  0.116621  0.218821  0.268105  0.763789  \n",
      "1  0.048996  0.272670  0.084207  0.101283  0.208596  0.212014  0.749955  \n",
      "2  0.069377  0.294141  0.052639  0.087157  0.198219  0.211179  0.739434  \n",
      "3  0.109453  0.296175  0.058640  0.077160  0.213529  0.224381  0.684168  \n",
      "4  0.142612  0.253533  0.054106  0.070494  0.209157  0.244650  0.634310  \n",
      "\n",
      "[5 rows x 180 columns]\n",
      "Time     object\n",
      "AL00    float64\n",
      "AT00    float64\n",
      "AT01    float64\n",
      "AT02    float64\n",
      "         ...   \n",
      "UK03    float64\n",
      "UK04    float64\n",
      "UK05    float64\n",
      "UKNI    float64\n",
      "XK00    float64\n",
      "Length: 180, dtype: object\n",
      "                   Time  AL00  AT00  AT01  AT02  AT03  BA00  BE00  BE01  BE02  \\\n",
      "0  01-Jan-1982 00:00:00   0.0   0.0   0.0   0.0   0.0   0.0   0.0   0.0   0.0   \n",
      "1  01-Jan-1982 01:00:00   0.0   0.0   0.0   0.0   0.0   0.0   0.0   0.0   0.0   \n",
      "2  01-Jan-1982 02:00:00   0.0   0.0   0.0   0.0   0.0   0.0   0.0   0.0   0.0   \n",
      "3  01-Jan-1982 03:00:00   0.0   0.0   0.0   0.0   0.0   0.0   0.0   0.0   0.0   \n",
      "4  01-Jan-1982 04:00:00   0.0   0.0   0.0   0.0   0.0   0.0   0.0   0.0   0.0   \n",
      "\n",
      "   ...  UA01  UA02  UK00  UK01  UK02  UK03  UK04  UK05  UKNI  XK00  \n",
      "0  ...   0.0   0.0   0.0   0.0   0.0   0.0   0.0   0.0   0.0   0.0  \n",
      "1  ...   0.0   0.0   0.0   0.0   0.0   0.0   0.0   0.0   0.0   0.0  \n",
      "2  ...   0.0   0.0   0.0   0.0   0.0   0.0   0.0   0.0   0.0   0.0  \n",
      "3  ...   0.0   0.0   0.0   0.0   0.0   0.0   0.0   0.0   0.0   0.0  \n",
      "4  ...   0.0   0.0   0.0   0.0   0.0   0.0   0.0   0.0   0.0   0.0  \n",
      "\n",
      "[5 rows x 180 columns]\n",
      "Time     object\n",
      "AL00    float64\n",
      "AT00    float64\n",
      "AT01    float64\n",
      "AT02    float64\n",
      "         ...   \n",
      "UK03    float64\n",
      "UK04    float64\n",
      "UK05    float64\n",
      "UKNI    float64\n",
      "XK00    float64\n",
      "Length: 180, dtype: object\n"
     ]
    }
   ],
   "source": [
    "# Check the data structure\n",
    "print(wind.head())\n",
    "print(wind.dtypes)\n",
    "print(solar.head())\n",
    "print(solar.dtypes)"
   ]
  },
  {
   "cell_type": "code",
   "execution_count": 4,
   "metadata": {},
   "outputs": [],
   "source": [
    "battery = BatteryModule(min_capacity=10,\n",
    "                              max_capacity=100,\n",
    "                              max_charge=50,\n",
    "                              max_discharge=50,\n",
    "                              efficiency=0.9,\n",
    "                              init_soc=0.2)\n",
    "\n",
    "load = LoadModule(time_series=load_ts)\n",
    "\n",
    "solar_pvs = RenewableModule(time_series=solar['ES10'])\n",
    "#wind_turbine = RenewableModule(time_series=wind_turbine_ts)\n",
    "\n"
   ]
  },
  {
   "cell_type": "code",
   "execution_count": 5,
   "metadata": {},
   "outputs": [],
   "source": [
    "grid_ts = [0.2, 0.1, 0.5] * np.ones((24*90, 3))\n",
    "\n",
    "grid = GridModule(max_import=100,\n",
    "                  max_export=100,\n",
    "                  time_series=grid_ts)"
   ]
  },
  {
   "cell_type": "code",
   "execution_count": 7,
   "metadata": {},
   "outputs": [
    {
     "ename": "ValueError",
     "evalue": "Attribute [final_step] has non-unique values, cannot return single unique value.",
     "output_type": "error",
     "traceback": [
      "\u001b[1;31m---------------------------------------------------------------------------\u001b[0m",
      "\u001b[1;31mValueError\u001b[0m                                Traceback (most recent call last)",
      "Cell \u001b[1;32mIn[7], line 7\u001b[0m\n\u001b[0;32m      1\u001b[0m modules \u001b[38;5;241m=\u001b[39m [\n\u001b[0;32m      2\u001b[0m     battery,\n\u001b[0;32m      3\u001b[0m     (\u001b[38;5;124m'\u001b[39m\u001b[38;5;124msolar\u001b[39m\u001b[38;5;124m'\u001b[39m, solar_pvs),\n\u001b[0;32m      4\u001b[0m     load,\n\u001b[0;32m      5\u001b[0m     grid]\n\u001b[1;32m----> 7\u001b[0m microgrid \u001b[38;5;241m=\u001b[39m \u001b[43mMicrogrid\u001b[49m\u001b[43m(\u001b[49m\u001b[43mmodules\u001b[49m\u001b[43m)\u001b[49m\n",
      "File \u001b[1;32m~\\AppData\\Local\\Packages\\PythonSoftwareFoundation.Python.3.10_qbz5n2kfra8p0\\LocalCache\\local-packages\\Python310\\site-packages\\pymgrid\\microgrid\\microgrid.py:124\u001b[0m, in \u001b[0;36mMicrogrid.__init__\u001b[1;34m(self, modules, add_unbalanced_module, loss_load_cost, overgeneration_cost, reward_shaping_func, trajectory_func)\u001b[0m\n\u001b[0;32m    119\u001b[0m \u001b[38;5;28mself\u001b[39m\u001b[38;5;241m.\u001b[39mmicrogrid_observation_space \u001b[38;5;241m=\u001b[39m MicrogridSpace\u001b[38;5;241m.\u001b[39mfrom_module_spaces(\n\u001b[0;32m    120\u001b[0m     \u001b[38;5;28mself\u001b[39m\u001b[38;5;241m.\u001b[39m_modules\u001b[38;5;241m.\u001b[39mget_attrs(\u001b[38;5;124m'\u001b[39m\u001b[38;5;124mobservation_space\u001b[39m\u001b[38;5;124m'\u001b[39m, as_pandas\u001b[38;5;241m=\u001b[39m\u001b[38;5;28;01mFalse\u001b[39;00m), \u001b[38;5;124m'\u001b[39m\u001b[38;5;124mobs\u001b[39m\u001b[38;5;124m'\u001b[39m\n\u001b[0;32m    121\u001b[0m )\n\u001b[0;32m    123\u001b[0m \u001b[38;5;28mself\u001b[39m\u001b[38;5;241m.\u001b[39m_initial_step \u001b[38;5;241m=\u001b[39m \u001b[38;5;28mself\u001b[39m\u001b[38;5;241m.\u001b[39m_get_module_initial_step()\n\u001b[1;32m--> 124\u001b[0m \u001b[38;5;28mself\u001b[39m\u001b[38;5;241m.\u001b[39m_final_step \u001b[38;5;241m=\u001b[39m \u001b[38;5;28;43mself\u001b[39;49m\u001b[38;5;241;43m.\u001b[39;49m\u001b[43m_get_module_final_step\u001b[49m\u001b[43m(\u001b[49m\u001b[43m)\u001b[49m\n\u001b[0;32m    126\u001b[0m \u001b[38;5;28mself\u001b[39m\u001b[38;5;241m.\u001b[39mreward_shaping_func \u001b[38;5;241m=\u001b[39m reward_shaping_func\n\u001b[0;32m    127\u001b[0m \u001b[38;5;28mself\u001b[39m\u001b[38;5;241m.\u001b[39mtrajectory_func \u001b[38;5;241m=\u001b[39m \u001b[38;5;28mself\u001b[39m\u001b[38;5;241m.\u001b[39m_check_trajectory_func(trajectory_func)\n",
      "File \u001b[1;32m~\\AppData\\Local\\Packages\\PythonSoftwareFoundation.Python.3.10_qbz5n2kfra8p0\\LocalCache\\local-packages\\Python310\\site-packages\\pymgrid\\microgrid\\microgrid.py:756\u001b[0m, in \u001b[0;36mMicrogrid._get_module_final_step\u001b[1;34m(self)\u001b[0m\n\u001b[0;32m    754\u001b[0m \u001b[38;5;28;01mdef\u001b[39;00m \u001b[38;5;21m_get_module_final_step\u001b[39m(\u001b[38;5;28mself\u001b[39m):\n\u001b[0;32m    755\u001b[0m     \u001b[38;5;28;01mtry\u001b[39;00m:\n\u001b[1;32m--> 756\u001b[0m         \u001b[38;5;28;01mreturn\u001b[39;00m \u001b[38;5;28;43mself\u001b[39;49m\u001b[38;5;241;43m.\u001b[39;49m\u001b[43mmodules\u001b[49m\u001b[38;5;241;43m.\u001b[39;49m\u001b[43mget_attrs\u001b[49m\u001b[43m(\u001b[49m\u001b[38;5;124;43m'\u001b[39;49m\u001b[38;5;124;43mfinal_step\u001b[39;49m\u001b[38;5;124;43m'\u001b[39;49m\u001b[43m,\u001b[49m\u001b[43m \u001b[49m\u001b[43munique\u001b[49m\u001b[38;5;241;43m=\u001b[39;49m\u001b[38;5;28;43;01mTrue\u001b[39;49;00m\u001b[43m)\u001b[49m\n\u001b[0;32m    757\u001b[0m     \u001b[38;5;28;01mexcept\u001b[39;00m \u001b[38;5;167;01mAttributeError\u001b[39;00m:\n\u001b[0;32m    758\u001b[0m         \u001b[38;5;28;01mreturn\u001b[39;00m np\u001b[38;5;241m.\u001b[39minf\n",
      "File \u001b[1;32m~\\AppData\\Local\\Packages\\PythonSoftwareFoundation.Python.3.10_qbz5n2kfra8p0\\LocalCache\\local-packages\\Python310\\site-packages\\pymgrid\\modules\\module_container.py:181\u001b[0m, in \u001b[0;36mContainer.get_attrs\u001b[1;34m(self, unique, as_pandas, drop_attr_names, *attrs)\u001b[0m\n\u001b[0;32m    178\u001b[0m     \u001b[38;5;28;01mraise\u001b[39;00m \u001b[38;5;167;01mValueError\u001b[39;00m(\u001b[38;5;124m'\u001b[39m\u001b[38;5;124mMissing attrs to get.\u001b[39m\u001b[38;5;124m'\u001b[39m)\n\u001b[0;32m    180\u001b[0m \u001b[38;5;28;01mif\u001b[39;00m unique:\n\u001b[1;32m--> 181\u001b[0m     \u001b[38;5;28;01mreturn\u001b[39;00m \u001b[38;5;28;43mself\u001b[39;49m\u001b[38;5;241;43m.\u001b[39;49m\u001b[43m_get_unique_attrs\u001b[49m\u001b[43m(\u001b[49m\u001b[43mattrs\u001b[49m\u001b[43m,\u001b[49m\u001b[43m \u001b[49m\u001b[43mas_pandas\u001b[49m\u001b[43m,\u001b[49m\u001b[43m \u001b[49m\u001b[43mdrop_attr_names\u001b[49m\u001b[43m)\u001b[49m\n\u001b[0;32m    183\u001b[0m \u001b[38;5;28;01mdef\u001b[39;00m \u001b[38;5;21mgetattr_func\u001b[39m(module, _attrs):\n\u001b[0;32m    184\u001b[0m     \u001b[38;5;28;01mif\u001b[39;00m drop_attr_names:\n",
      "File \u001b[1;32m~\\AppData\\Local\\Packages\\PythonSoftwareFoundation.Python.3.10_qbz5n2kfra8p0\\LocalCache\\local-packages\\Python310\\site-packages\\pymgrid\\modules\\module_container.py:210\u001b[0m, in \u001b[0;36mContainer._get_unique_attrs\u001b[1;34m(self, attrs, as_pandas, drop_attr_names)\u001b[0m\n\u001b[0;32m    208\u001b[0m \u001b[38;5;28;01mdef\u001b[39;00m \u001b[38;5;21m_get_unique_attrs\u001b[39m(\u001b[38;5;28mself\u001b[39m, attrs, as_pandas, drop_attr_names):\n\u001b[0;32m    209\u001b[0m     \u001b[38;5;28;01mif\u001b[39;00m \u001b[38;5;28mlen\u001b[39m(attrs) \u001b[38;5;241m==\u001b[39m \u001b[38;5;241m1\u001b[39m:\n\u001b[1;32m--> 210\u001b[0m         \u001b[38;5;28;01mreturn\u001b[39;00m \u001b[38;5;28;43mself\u001b[39;49m\u001b[38;5;241;43m.\u001b[39;49m\u001b[43m_get_single_unique_attr\u001b[49m\u001b[43m(\u001b[49m\u001b[43mattrs\u001b[49m\u001b[43m[\u001b[49m\u001b[38;5;241;43m0\u001b[39;49m\u001b[43m]\u001b[49m\u001b[43m)\u001b[49m\n\u001b[0;32m    212\u001b[0m     \u001b[38;5;28;01mif\u001b[39;00m \u001b[38;5;129;01mnot\u001b[39;00m drop_attr_names:\n\u001b[0;32m    213\u001b[0m         unique_attrs \u001b[38;5;241m=\u001b[39m {attr: \u001b[38;5;28mself\u001b[39m\u001b[38;5;241m.\u001b[39m_get_single_unique_attr(attr) \u001b[38;5;28;01mfor\u001b[39;00m attr \u001b[38;5;129;01min\u001b[39;00m attrs}\n",
      "File \u001b[1;32m~\\AppData\\Local\\Packages\\PythonSoftwareFoundation.Python.3.10_qbz5n2kfra8p0\\LocalCache\\local-packages\\Python310\\site-packages\\pymgrid\\modules\\module_container.py:234\u001b[0m, in \u001b[0;36mContainer._get_single_unique_attr\u001b[1;34m(self, attr)\u001b[0m\n\u001b[0;32m    232\u001b[0m     \u001b[38;5;28;01melif\u001b[39;00m module_val \u001b[38;5;241m!=\u001b[39m val:\n\u001b[0;32m    233\u001b[0m         msg \u001b[38;5;241m=\u001b[39m \u001b[38;5;124mf\u001b[39m\u001b[38;5;124m\"\u001b[39m\u001b[38;5;124mAttribute [\u001b[39m\u001b[38;5;132;01m{\u001b[39;00mattr\u001b[38;5;132;01m}\u001b[39;00m\u001b[38;5;124m] has non-unique values, cannot return single unique value.\u001b[39m\u001b[38;5;124m\"\u001b[39m\n\u001b[1;32m--> 234\u001b[0m         \u001b[38;5;28;01mraise\u001b[39;00m \u001b[38;5;167;01mValueError\u001b[39;00m(msg)\n\u001b[0;32m    236\u001b[0m \u001b[38;5;28;01mif\u001b[39;00m val \u001b[38;5;129;01mis\u001b[39;00m \u001b[38;5;28mNotImplemented\u001b[39m:\n\u001b[0;32m    237\u001b[0m     \u001b[38;5;28;01mraise\u001b[39;00m \u001b[38;5;167;01mAttributeError\u001b[39;00m(\u001b[38;5;124mf\u001b[39m\u001b[38;5;124m'\u001b[39m\u001b[38;5;124mNo values found for key \u001b[39m\u001b[38;5;132;01m{\u001b[39;00mattr\u001b[38;5;132;01m}\u001b[39;00m\u001b[38;5;124m.\u001b[39m\u001b[38;5;124m'\u001b[39m)\n",
      "\u001b[1;31mValueError\u001b[0m: Attribute [final_step] has non-unique values, cannot return single unique value."
     ]
    }
   ],
   "source": [
    "modules = [\n",
    "    battery,\n",
    "    ('solar', solar_pvs),\n",
    "    load,\n",
    "    grid]\n",
    "\n",
    "microgrid = Microgrid(modules)"
   ]
  },
  {
   "cell_type": "code",
   "execution_count": null,
   "metadata": {},
   "outputs": [],
   "source": [
    "# Flask app\n",
    "from flask import Flask, request, jsonify\n"
   ]
  },
  {
   "cell_type": "code",
   "execution_count": 8,
   "metadata": {},
   "outputs": [
    {
     "ename": "TypeError",
     "evalue": "LoadModule.__init__() got an unexpected keyword argument 'loss_load_cost'",
     "output_type": "error",
     "traceback": [
      "\u001b[1;31m---------------------------------------------------------------------------\u001b[0m",
      "\u001b[1;31mTypeError\u001b[0m                                 Traceback (most recent call last)",
      "Cell \u001b[1;32mIn[8], line 20\u001b[0m\n\u001b[0;32m     17\u001b[0m \u001b[38;5;66;03m# Using random data\u001b[39;00m\n\u001b[0;32m     18\u001b[0m renewable \u001b[38;5;241m=\u001b[39m RenewableModule(time_series\u001b[38;5;241m=\u001b[39m\u001b[38;5;241m50\u001b[39m\u001b[38;5;241m*\u001b[39mnp\u001b[38;5;241m.\u001b[39mrandom\u001b[38;5;241m.\u001b[39mrand(\u001b[38;5;241m100\u001b[39m))\n\u001b[1;32m---> 20\u001b[0m load \u001b[38;5;241m=\u001b[39m \u001b[43mLoadModule\u001b[49m\u001b[43m(\u001b[49m\u001b[43mtime_series\u001b[49m\u001b[38;5;241;43m=\u001b[39;49m\u001b[38;5;241;43m60\u001b[39;49m\u001b[38;5;241;43m*\u001b[39;49m\u001b[43mnp\u001b[49m\u001b[38;5;241;43m.\u001b[39;49m\u001b[43mrandom\u001b[49m\u001b[38;5;241;43m.\u001b[39;49m\u001b[43mrand\u001b[49m\u001b[43m(\u001b[49m\u001b[38;5;241;43m100\u001b[39;49m\u001b[43m)\u001b[49m\u001b[43m,\u001b[49m\n\u001b[0;32m     21\u001b[0m \u001b[43m                  \u001b[49m\u001b[43mloss_load_cost\u001b[49m\u001b[38;5;241;43m=\u001b[39;49m\u001b[38;5;241;43m10\u001b[39;49m\u001b[43m)\u001b[49m\n\u001b[0;32m     23\u001b[0m microgrid \u001b[38;5;241m=\u001b[39m Microgrid([genset, battery, (\u001b[38;5;124m\"\u001b[39m\u001b[38;5;124mpv\u001b[39m\u001b[38;5;124m\"\u001b[39m, renewable), load])\n",
      "\u001b[1;31mTypeError\u001b[0m: LoadModule.__init__() got an unexpected keyword argument 'loss_load_cost'"
     ]
    }
   ],
   "source": [
    "import numpy as np\n",
    "from pymgrid import Microgrid\n",
    "from pymgrid.modules import GensetModule, BatteryModule, LoadModule, RenewableModule\n",
    "\n",
    "\n",
    "genset = GensetModule(running_min_production=10,\n",
    "                      running_max_production=50,\n",
    "                      genset_cost=0.5)\n",
    "\n",
    "battery = BatteryModule(min_capacity=0,\n",
    "                        max_capacity=100,\n",
    "                        max_charge=50,\n",
    "                        max_discharge=50,\n",
    "                        efficiency=1.0,\n",
    "                        init_soc=0.5)\n",
    "\n",
    "# Using random data\n",
    "renewable = RenewableModule(time_series=50*np.random.rand(100))\n",
    "\n",
    "load = LoadModule(time_series=60*np.random.rand(100),\n",
    "                  loss_load_cost=10)\n",
    "\n",
    "microgrid = Microgrid([genset, battery, (\"pv\", renewable), load])"
   ]
  }
 ],
 "metadata": {
  "kernelspec": {
   "display_name": "Python 3",
   "language": "python",
   "name": "python3"
  },
  "language_info": {
   "codemirror_mode": {
    "name": "ipython",
    "version": 3
   },
   "file_extension": ".py",
   "mimetype": "text/x-python",
   "name": "python",
   "nbconvert_exporter": "python",
   "pygments_lexer": "ipython3",
   "version": "3.10.11"
  }
 },
 "nbformat": 4,
 "nbformat_minor": 2
}
